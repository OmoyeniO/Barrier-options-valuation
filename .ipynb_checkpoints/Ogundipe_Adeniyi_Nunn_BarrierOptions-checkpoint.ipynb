{
 "cells": [
  {
   "cell_type": "code",
   "execution_count": 49,
   "id": "adbca5e2",
   "metadata": {},
   "outputs": [
    {
     "name": "stdout",
     "output_type": "stream",
     "text": [
      "/Users/kylenunn/Desktop/Math_5220\n",
      "/Users/kylenunn/Desktop/Math_5220\r\n"
     ]
    }
   ],
   "source": [
    "# 5220 Group Project: Barrier Option Pricing\n",
    "# Omoyeni Ogundipe, Taofeekat Adeniyi, and Kyle Nunn\n",
    "\n",
    "# Exotic Option: Barrier up and out european option pricing\n",
    "%cd /Users/kylenunn/Desktop/Math_5220\n",
    "!pwd"
   ]
  },
  {
   "cell_type": "code",
   "execution_count": 50,
   "id": "3ada0284",
   "metadata": {},
   "outputs": [],
   "source": [
    "# Looking at a barrier up and out call option with the following variables:\n",
    "# Strike Price = $100\n",
    "# Barrier = $150\n",
    "# Rebate = $50\n",
    "# Exercise date = 4 years"
   ]
  },
  {
   "cell_type": "code",
   "execution_count": 51,
   "id": "4741a9a6",
   "metadata": {},
   "outputs": [],
   "source": [
    "# We are going to do a simple slow and fast binomial pricing model in python.\n",
    "# We will treat binomial tree as a network with nodes (i,j)\n",
    "# i represents the time steps\n",
    "# j represents the number of ordered price outcome (bottom of tree to top of tree)\n",
    "# binomial_tree_slow\n",
    "# binomial_tree_fast"
   ]
  },
  {
   "cell_type": "code",
   "execution_count": 52,
   "id": "1f89ce54",
   "metadata": {},
   "outputs": [],
   "source": [
    "import numpy as np"
   ]
  },
  {
   "cell_type": "code",
   "execution_count": 17,
   "id": "21306886",
   "metadata": {},
   "outputs": [],
   "source": [
    "# Binomial tree representation\n",
    "# Stock tree can be represented using nodes (i,j) with initial stock price S0\n",
    "## *INSERT REPRESENTATION SOMEHWERE* ##"
   ]
  },
  {
   "cell_type": "code",
   "execution_count": 53,
   "id": "3b7a289e",
   "metadata": {},
   "outputs": [],
   "source": [
    "S0 = 100 # initial stock price\n",
    "K = 100 # strike price\n",
    "T = 1 # time to maturity in years\n",
    "H = 125 #up and out barrier price\n",
    "r = .06 # risk free rate\n",
    "N = 3 # number of time steps\n",
    "u = 1.1 #up factor\n",
    "d = 1/u #down factor\n",
    "opttype = 'C' # option price call or put"
   ]
  },
  {
   "cell_type": "code",
   "execution_count": 54,
   "id": "8a6ab5ed",
   "metadata": {},
   "outputs": [
    {
     "data": {
      "text/plain": [
       "45.188305437466454"
      ]
     },
     "execution_count": 54,
     "metadata": {},
     "output_type": "execute_result"
    }
   ],
   "source": [
    "# Slow binomial option price model\n",
    "# Its going to be slow because we are going to go through each node as we did in excel as a class in excel\n",
    "\n",
    "def barrier_tree_slow(K,T,S0,H,r,N,u,d,opttype='C'):\n",
    "    #precompute value\n",
    "    dt = T/N #this is the change each time step\n",
    "    q = (np.exp(r*dt) - u)/(u-d) # risk neutral probability that we used in bopm\n",
    "    disc = np.exp(-r*dt)# discounted rate\n",
    "    \n",
    "    #initialize asset prices at maturity\n",
    "    S = np.zeros(N + 1) #setting an empty numpy array with dimensions 0+1\n",
    "    for j in range(0,N+1):\n",
    "        S[j] = S0 * u**j * d**(N-j) # Represented by barrier option pricing formula above\n",
    "   \n",
    "    # One we initialize our stock prices we can now consider our option payoff\n",
    "    # option payoff\n",
    "    # considering a call\n",
    "    C = np.zeros(N+1)\n",
    "    for j in range(0,N+1):\n",
    "        if opttype == 'C':\n",
    "            C[j] = max(0,S[j]- K)\n",
    "        else:\n",
    "            C[j] = max(0,K - S[j]) \n",
    "    # We know this is a barrier option, so it might not be the case\n",
    "    # Therefore, we need to check to see if our barrier has been exceeded\n",
    "    # So we'll check terminal condition payoff\n",
    "    for j in range(0,N+1):\n",
    "        S = S0 * u**j * d**(N-j) # Copying above formula\n",
    "        if S >= H:\n",
    "            C[j] = 0 # If the barrier has been exceeded, then the value will be 0 and we lose our option rights        \n",
    "\n",
    "# Now we will work backward through the option tree to figure out price today\n",
    "    for i in np.arange(N-1,-1,-1): # starting on the time before the final payoff\n",
    "        for j in range(0,i+1): #its i+1 because at the second last stage we are going to have - being n-1 and that means that it actually has nj nodes (j in terms of time)\n",
    "            S = S0 * u**j * d**(N-j)\n",
    "            if S >= H:\n",
    "                C[j] = 0\n",
    "            else:\n",
    "                C[j] = disc * (q*C[j+1]+(1-q)*C[j]) # C[j] is going to the be risk neutral discounted expectation\n",
    "    return C[0]\n",
    "\n",
    "barrier_tree_slow(K,T,S0,H,r,N,u,d,opttype='P')"
   ]
  },
  {
   "cell_type": "code",
   "execution_count": 55,
   "id": "c181211f",
   "metadata": {},
   "outputs": [
    {
     "data": {
      "text/plain": [
       "45.188305437466454"
      ]
     },
     "execution_count": 55,
     "metadata": {},
     "output_type": "execute_result"
    }
   ],
   "source": [
    "# Now that we've done the barrier implementation, we are going to look and see how we can speed things up using the fact method\n",
    "# We are going to do this by using numpy arrays\n",
    "# We're going to copy the above code and get rid of the for loops\n",
    "# We can leave the precomputed values the same\n",
    "# The initialized assets can now be calculated in one step:\n",
    "\n",
    "# FIRST, we are going to get rid of the for loops\n",
    "\n",
    "# We can leave the precomputed values the same:\n",
    "def barrier_tree_fast(K,T,S0,H,r,N,u,d,opttype='C'):\n",
    "    dt = T/N \n",
    "    q = (np.exp(r*dt) - u)/(u-d) \n",
    "    disc = np.exp(-r*dt)\n",
    "    \n",
    "    #initialize asset prices at maturity\n",
    "    # Were going to use numpy arrays within the computation itself\n",
    "    S = S0 * d**(np.arange(N,-1,-1)) * u**(np.arange(0,N+1,1)) # Taking \"N\" steps down by one each time\n",
    "   \n",
    "    # One we initialize our stock prices we can now consider our option payoff\n",
    "    # option payoff\n",
    "    # considering a call\n",
    "    # instead of using max we will use maximum. This will compare the values of the array to whatever function we say and we're comparing the zeroes\n",
    "    if opttype == 'C':\n",
    "        C = np.maximum(S - K,0)\n",
    "    else:\n",
    "        C = np.maximum(K - S,0) \n",
    "    \n",
    "    # We know this is a barrier option, so it might not be the case\n",
    "    # Therefore, we need to check to see if our barrier has been exceeded\n",
    "    # So we'll check terminal condition payoff\n",
    "    # We just need to use the functionality of having a numpy array and we can condition on it by indexing\n",
    "    # Taking C array and becuase we know the S has been indexed at the same place of all the call or derivative values then we can condition on S with respect to H \n",
    "    C[S >= H] = 0\n",
    "       \n",
    "# Now we will work backward through the option tree to figure out price today\n",
    "# This part will change completely from the above short method\n",
    "    for i in np.arange(N-1,-1,-1): # starting on the time before the final payoff\n",
    "        S = S0 * d**(np.arange(i,-1,-1)) * u**(np.arange(0,i+1,1)) # Instead of N we are going to use i becuase the actual column is changing each time.\n",
    "        C[:i+1] = disc * ( q * C[1:i+2] + (1-q)* C[0:i+1]) # Calculating this in terms of i+1 because we've started from N-1\n",
    "        C = C[:-1] #There is one quirk which the above arrays need to be the same size. They aren't now becuase S is decreasing in size while C is staying the same.We're chopping off the top value. We don't need it becuase we're keeping our fixed array and the important values are just going down to the bottom.\n",
    "        C[S >= H] =0  #Now conditioning C onto S just like we did with terminal condition\n",
    "    return C[0]\n",
    "\n",
    "barrier_tree_fast(K,T,S0,H,r,N,u,d,opttype='P')"
   ]
  }
 ],
 "metadata": {
  "kernelspec": {
   "display_name": "Python 3 (ipykernel)",
   "language": "python",
   "name": "python3"
  },
  "language_info": {
   "codemirror_mode": {
    "name": "ipython",
    "version": 3
   },
   "file_extension": ".py",
   "mimetype": "text/x-python",
   "name": "python",
   "nbconvert_exporter": "python",
   "pygments_lexer": "ipython3",
   "version": "3.9.7"
  }
 },
 "nbformat": 4,
 "nbformat_minor": 5
}
